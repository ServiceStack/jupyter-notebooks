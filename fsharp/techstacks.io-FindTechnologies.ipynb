{
    "cells": [
        {
            "cell_type": "code",
            "execution_count": null,
            "source": [
                "#r \"nuget:ServiceStack.Client\"\r\n",
                "#r \"nuget:ServiceStack.Common\"\r\n",
                "\r\n",
                "\r\n",
                "\r\n",
                "open System\r\n",
                "open System.Collections\r\n",
                "open System.Collections.Generic\r\n",
                "open System.Runtime.Serialization\r\n",
                "open ServiceStack\r\n",
                "open ServiceStack.DataAnnotations\r\n",
                "\r\n",
                "type TechnologyTier =\r\n",
                "    | ProgrammingLanguage = 0\r\n",
                "    | Client = 1\r\n",
                "    | Http = 2\r\n",
                "    | Server = 3\r\n",
                "    | Data = 4\r\n",
                "    | SoftwareInfrastructure = 5\r\n",
                "    | OperatingSystem = 6\r\n",
                "    | HardwareInfrastructure = 7\r\n",
                "    | ThirdPartyServices = 8\r\n",
                "\r\n",
                "[<AllowNullLiteral>]\r\n",
                "type TechnologyBase() = \r\n",
                "    member val Id:Int64 = new Int64() with get,set\r\n",
                "    member val Name:String = null with get,set\r\n",
                "    member val VendorName:String = null with get,set\r\n",
                "    member val VendorUrl:String = null with get,set\r\n",
                "    member val ProductUrl:String = null with get,set\r\n",
                "    member val LogoUrl:String = null with get,set\r\n",
                "    member val Description:String = null with get,set\r\n",
                "    member val Created:DateTime = new DateTime() with get,set\r\n",
                "    member val CreatedBy:String = null with get,set\r\n",
                "    member val LastModified:DateTime = new DateTime() with get,set\r\n",
                "    member val LastModifiedBy:String = null with get,set\r\n",
                "    member val OwnerId:String = null with get,set\r\n",
                "    member val Slug:String = null with get,set\r\n",
                "    member val LogoApproved:Boolean = new Boolean() with get,set\r\n",
                "    member val IsLocked:Boolean = new Boolean() with get,set\r\n",
                "    member val Tier:TechnologyTier = new TechnologyTier() with get,set\r\n",
                "    member val LastStatusUpdate:Nullable<DateTime> = new Nullable<DateTime>() with get,set\r\n",
                "    member val OrganizationId:Nullable<Int32> = new Nullable<Int32>() with get,set\r\n",
                "    member val CommentsPostId:Nullable<Int64> = new Nullable<Int64>() with get,set\r\n",
                "    member val ViewCount:Int32 = new Int32() with get,set\r\n",
                "    member val FavCount:Int32 = new Int32() with get,set\r\n",
                "\r\n",
                "[<AllowNullLiteral>]\r\n",
                "type Technology() = \r\n",
                "    inherit TechnologyBase()\r\n",
                "\r\n",
                "[<AllowNullLiteral>]\r\n",
                "type TechnologyView() = \r\n",
                "    member val Id:Nullable<Int64> = new Nullable<Int64>() with get,set\r\n",
                "    member val Name:String = null with get,set\r\n",
                "    member val VendorName:String = null with get,set\r\n",
                "    member val VendorUrl:String = null with get,set\r\n",
                "    member val ProductUrl:String = null with get,set\r\n",
                "    member val LogoUrl:String = null with get,set\r\n",
                "    member val Description:String = null with get,set\r\n",
                "    member val Created:Nullable<DateTime> = new Nullable<DateTime>() with get,set\r\n",
                "    member val CreatedBy:String = null with get,set\r\n",
                "    member val LastModified:Nullable<DateTime> = new Nullable<DateTime>() with get,set\r\n",
                "    member val LastModifiedBy:String = null with get,set\r\n",
                "    member val OwnerId:String = null with get,set\r\n",
                "    member val Slug:String = null with get,set\r\n",
                "    member val LogoApproved:Nullable<Boolean> = new Nullable<Boolean>() with get,set\r\n",
                "    member val IsLocked:Nullable<Boolean> = new Nullable<Boolean>() with get,set\r\n",
                "    member val Tier:Nullable<TechnologyTier> = new Nullable<TechnologyTier>() with get,set\r\n",
                "    member val LastStatusUpdate:Nullable<DateTime> = new Nullable<DateTime>() with get,set\r\n",
                "    member val OrganizationId:Nullable<Int32> = new Nullable<Int32>() with get,set\r\n",
                "    member val CommentsPostId:Nullable<Int64> = new Nullable<Int64>() with get,set\r\n",
                "    member val ViewCount:Nullable<Int32> = new Nullable<Int32>() with get,set\r\n",
                "    member val FavCount:Nullable<Int32> = new Nullable<Int32>() with get,set\r\n",
                "\r\n",
                "[<Route(\"/technology/search\")>]\r\n",
                "[<AutoQueryViewer(DefaultSearchField=\"Tier\", DefaultSearchText=\"Data\", DefaultSearchType=\"=\", Description=\"Explore different Technologies\", IconUrl=\"octicon:database\", Title=\"Find Technologies\")>]\r\n",
                "[<AllowNullLiteral>]\r\n",
                "type FindTechnologies() = \r\n",
                "    inherit QueryDb<Technology, TechnologyView>()\r\n",
                "    interface IReturn<QueryResponse<TechnologyView>>\r\n",
                "    member val Ids:ResizeArray<Int64> = new ResizeArray<Int64>() with get,set\r\n",
                "    member val Name:String = null with get,set\r\n",
                "    member val VendorName:String = null with get,set\r\n",
                "    member val NameContains:String = null with get,set\r\n",
                "    member val VendorNameContains:String = null with get,set\r\n",
                "    member val DescriptionContains:String = null with get,set\r\n",
                "\r\n",
                "\r\n",
                "\r\n",
                "let client = new JsonServiceClient(\"https://techstacks.io\")\r\n"
            ],
            "outputs": [],
            "metadata": {
                "dotnet_interactive": {
                    "language": "fsharp"
                }
            }
        },
        {
            "cell_type": "code",
            "execution_count": null,
            "source": [
                "let response = client.Send(new FindTechnologies (\r\n",
                "            Ids = ResizeArray([1L; 2L; 4L; 6L]),\r\n",
                "            VendorName = \"Google\",\r\n",
                "            Take = 10,\r\n",
                "            Fields = \"Id, Name, VendorName, Slug, Tier, FavCount, ViewCount\"))\r\n"
            ],
            "outputs": [],
            "metadata": {
                "dotnet_interactive": {
                    "language": "fsharp"
                }
            }
        },
        {
            "cell_type": "code",
            "execution_count": null,
            "source": [
                "display(HTML(Inspect.htmlDump(response)))\r\n"
            ],
            "outputs": [
                {
                    "data": {
                        "text/html": [
                            "<table class=\"table\"><tbody><tr><th>Offset</th><td>0</td></tr><tr><th>Total</th><td>19</td></tr><tr><th>Results</th><td><table class=\"table\"><thead><tr><th>Id</th><th>Name</th><th>VendorName</th><th>Slug</th><th>Tier</th><th>ViewCount</th><th>FavCount</th></tr></thead><tbody><tr><td>1</td><td>ServiceStack</td><td>ServiceStack</td><td>servicestack</td><td>Server</td><td>4204</td><td>5</td></tr><tr><td>2</td><td>PostgreSQL</td><td>PostgreSQL</td><td>postgresql</td><td>Data</td><td>2291</td><td>4</td></tr><tr><td>4</td><td>Windows Server 2012</td><td>Microsoft</td><td>windows-server-2012</td><td>OperatingSystem</td><td>878</td><td>1</td></tr><tr><td>6</td><td>AWS RDS</td><td>Amazon</td><td>aws-rds</td><td>Data</td><td>625</td><td>1</td></tr><tr><td>7</td><td>AngularJS</td><td>Google</td><td>angularjs</td><td>Client</td><td>5012</td><td>1</td></tr><tr><td>13</td><td>Google Closure Library</td><td>Google</td><td>google-closure-library</td><td>Client</td><td>390</td><td>1</td></tr><tr><td>15</td><td>Dart</td><td>Google</td><td>dart</td><td>ProgrammingLanguage</td><td>320</td><td>2</td></tr><tr><td>18</td><td>Go</td><td>Google</td><td>go</td><td>ProgrammingLanguage</td><td>3865</td><td>2</td></tr><tr><td>57</td><td>LevelDB</td><td>Google</td><td>leveldb</td><td>Data</td><td>325</td><td>1</td></tr><tr><td>61</td><td>Firebase</td><td>Google</td><td>firebase</td><td>Data</td><td>722</td><td>1</td></tr></tbody></table></td></tr><tr><th>Meta</th><td></td></tr><tr><th>ResponseStatus</th><td></td></tr></tbody></table>"
                        ]
                    },
                    "metadata": {},
                    "output_type": "display_data"
                }
            ],
            "metadata": {
                "dotnet_interactive": {
                    "language": "fsharp"
                }
            }
        },
        {
            "cell_type": "code",
            "execution_count": null,
            "source": [
                "Inspect.printDumpTable(response.Results)\r\n"
            ],
            "outputs": [
                {
                    "data": {
                        "text/plain": [
                            "| #  | Id | Name                   | VendorName   | Slug                   | Tier                | ViewCount | FavCount |\r\n",
                            "|----|----|------------------------|--------------|------------------------|---------------------|-----------|----------|\r\n",
                            "| 1  |  1 | ServiceStack           | ServiceStack | servicestack           | Server              |      4204 |        5 |\r\n",
                            "| 2  |  2 | PostgreSQL             | PostgreSQL   | postgresql             | Data                |      2291 |        4 |\r\n",
                            "| 3  |  4 | Windows Server 2012    | Microsoft    | windows-server-2012    | OperatingSystem     |       878 |        1 |\r\n",
                            "| 4  |  6 | AWS RDS                | Amazon       | aws-rds                | Data                |       625 |        1 |\r\n",
                            "| 5  |  7 | AngularJS              | Google       | angularjs              | Client              |      5012 |        1 |\r\n",
                            "| 6  | 13 | Google Closure Library | Google       | google-closure-library | Client              |       390 |        1 |\r\n",
                            "| 7  | 15 | Dart                   | Google       | dart                   | ProgrammingLanguage |       320 |        2 |\r\n",
                            "| 8  | 18 | Go                     | Google       | go                     | ProgrammingLanguage |      3865 |        2 |\r\n",
                            "| 9  | 57 | LevelDB                | Google       | leveldb                | Data                |       325 |        1 |\r\n",
                            "| 10 | 61 | Firebase               | Google       | firebase               | Data                |       722 |        1 |\r\n",
                            "\r\n",
                            "\r\n",
                            "\r\n"
                        ]
                    },
                    "metadata": {},
                    "output_type": "display_data"
                }
            ],
            "metadata": {
                "dotnet_interactive": {
                    "language": "fsharp"
                }
            }
        },
        {
            "cell_type": "code",
            "execution_count": null,
            "source": [],
            "outputs": [],
            "metadata": {
                "dotnet_interactive": {
                    "language": "fsharp"
                }
            }
        }
    ],
    "metadata": {
        "kernelspec": {
            "display_name": ".NET (F#)",
            "name": ".net-fsharp"
        },
        "language_info": {
            "name": "F#"
        },
        "orig_nbformat": 4
    },
    "nbformat": 4,
    "nbformat_minor": 2
}