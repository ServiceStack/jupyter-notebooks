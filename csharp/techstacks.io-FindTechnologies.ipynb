{
    "cells": [
        {
            "cell_type": "code",
            "execution_count": null,
            "source": [
                "#r \"nuget:ServiceStack.Client\"\r\n",
                "#r \"nuget:ServiceStack.Common\"\r\n",
                "\r\n",
                "\r\n",
                "\r\n",
                "using System;\r\n",
                "using System.Collections;\r\n",
                "using System.Collections.Generic;\r\n",
                "using System.Runtime.Serialization;\r\n",
                "using ServiceStack;\r\n",
                "using ServiceStack.DataAnnotations;\r\n",
                "\r\n",
                "\r\n",
                "[Route(\"/technology/search\")]\r\n",
                "[AutoQueryViewer(DefaultSearchField=\"Tier\", DefaultSearchText=\"Data\", DefaultSearchType=\"=\", Description=\"Explore different Technologies\", IconUrl=\"octicon:database\", Title=\"Find Technologies\")]\r\n",
                "public partial class FindTechnologies\r\n",
                "    : QueryDb<Technology, TechnologyView>, IReturn<QueryResponse<TechnologyView>>, IGet\r\n",
                "{\r\n",
                "    public FindTechnologies()\r\n",
                "    {\r\n",
                "        Ids = new List<long>{};\r\n",
                "    }\r\n",
                "\r\n",
                "    public virtual List<long> Ids { get; set; }\r\n",
                "    public virtual string Name { get; set; }\r\n",
                "    public virtual string VendorName { get; set; }\r\n",
                "    public virtual string NameContains { get; set; }\r\n",
                "    public virtual string VendorNameContains { get; set; }\r\n",
                "    public virtual string DescriptionContains { get; set; }\r\n",
                "}\r\n",
                "\r\n",
                "public partial class Technology\r\n",
                "    : TechnologyBase\r\n",
                "{\r\n",
                "}\r\n",
                "\r\n",
                "public partial class TechnologyBase\r\n",
                "{\r\n",
                "    public virtual long Id { get; set; }\r\n",
                "    public virtual string Name { get; set; }\r\n",
                "    public virtual string VendorName { get; set; }\r\n",
                "    public virtual string VendorUrl { get; set; }\r\n",
                "    public virtual string ProductUrl { get; set; }\r\n",
                "    public virtual string LogoUrl { get; set; }\r\n",
                "    public virtual string Description { get; set; }\r\n",
                "    public virtual DateTime Created { get; set; }\r\n",
                "    public virtual string CreatedBy { get; set; }\r\n",
                "    public virtual DateTime LastModified { get; set; }\r\n",
                "    public virtual string LastModifiedBy { get; set; }\r\n",
                "    public virtual string OwnerId { get; set; }\r\n",
                "    public virtual string Slug { get; set; }\r\n",
                "    public virtual bool LogoApproved { get; set; }\r\n",
                "    public virtual bool IsLocked { get; set; }\r\n",
                "    public virtual TechnologyTier Tier { get; set; }\r\n",
                "    public virtual DateTime? LastStatusUpdate { get; set; }\r\n",
                "    public virtual int? OrganizationId { get; set; }\r\n",
                "    public virtual long? CommentsPostId { get; set; }\r\n",
                "    public virtual int ViewCount { get; set; }\r\n",
                "    public virtual int FavCount { get; set; }\r\n",
                "}\r\n",
                "\r\n",
                "public enum TechnologyTier\r\n",
                "{\r\n",
                "    ProgrammingLanguage,\r\n",
                "    Client,\r\n",
                "    Http,\r\n",
                "    Server,\r\n",
                "    Data,\r\n",
                "    SoftwareInfrastructure,\r\n",
                "    OperatingSystem,\r\n",
                "    HardwareInfrastructure,\r\n",
                "    ThirdPartyServices,\r\n",
                "}\r\n",
                "\r\n",
                "public partial class TechnologyView\r\n",
                "{\r\n",
                "    public virtual long? Id { get; set; }\r\n",
                "    public virtual string Name { get; set; }\r\n",
                "    public virtual string VendorName { get; set; }\r\n",
                "    public virtual string VendorUrl { get; set; }\r\n",
                "    public virtual string ProductUrl { get; set; }\r\n",
                "    public virtual string LogoUrl { get; set; }\r\n",
                "    public virtual string Description { get; set; }\r\n",
                "    public virtual DateTime? Created { get; set; }\r\n",
                "    public virtual string CreatedBy { get; set; }\r\n",
                "    public virtual DateTime? LastModified { get; set; }\r\n",
                "    public virtual string LastModifiedBy { get; set; }\r\n",
                "    public virtual string OwnerId { get; set; }\r\n",
                "    public virtual string Slug { get; set; }\r\n",
                "    public virtual bool? LogoApproved { get; set; }\r\n",
                "    public virtual bool? IsLocked { get; set; }\r\n",
                "    public virtual TechnologyTier? Tier { get; set; }\r\n",
                "    public virtual DateTime? LastStatusUpdate { get; set; }\r\n",
                "    public virtual int? OrganizationId { get; set; }\r\n",
                "    public virtual long? CommentsPostId { get; set; }\r\n",
                "    public virtual int? ViewCount { get; set; }\r\n",
                "    public virtual int? FavCount { get; set; }\r\n",
                "}\r\n",
                "\r\n",
                "\r\n",
                "\r\n",
                "var client = new JsonServiceClient(\"https://techstacks.io\");\r\n"
            ],
            "outputs": [],
            "metadata": {
                "dotnet_interactive": {
                    "language": "csharp"
                }
            }
        },
        {
            "cell_type": "code",
            "execution_count": null,
            "source": [
                "var response = client.Send(new FindTechnologies {\r\n",
                "    Ids = new List<long> { 1L, 2L, 4L, 6L },\r\n",
                "    VendorName = \"Google\",\r\n",
                "    Take = 10,\r\n",
                "    Fields = \"Id, Name, VendorName, Slug, Tier, FavCount, ViewCount\"});\r\n"
            ],
            "outputs": [],
            "metadata": {
                "dotnet_interactive": {
                    "language": "csharp"
                }
            }
        },
        {
            "cell_type": "code",
            "execution_count": null,
            "source": [
                "display(HTML(Inspect.htmlDump(response)));\r\n"
            ],
            "outputs": [
                {
                    "data": {
                        "text/html": [
                            "<table class=\"table\"><tbody><tr><th>Offset</th><td>0</td></tr><tr><th>Total</th><td>19</td></tr><tr><th>Results</th><td><table class=\"table\"><thead><tr><th>Id</th><th>Name</th><th>VendorName</th><th>Slug</th><th>Tier</th><th>ViewCount</th><th>FavCount</th></tr></thead><tbody><tr><td>1</td><td>ServiceStack</td><td>ServiceStack</td><td>servicestack</td><td>Server</td><td>4204</td><td>5</td></tr><tr><td>2</td><td>PostgreSQL</td><td>PostgreSQL</td><td>postgresql</td><td>Data</td><td>2291</td><td>4</td></tr><tr><td>4</td><td>Windows Server 2012</td><td>Microsoft</td><td>windows-server-2012</td><td>OperatingSystem</td><td>878</td><td>1</td></tr><tr><td>6</td><td>AWS RDS</td><td>Amazon</td><td>aws-rds</td><td>Data</td><td>625</td><td>1</td></tr><tr><td>7</td><td>AngularJS</td><td>Google</td><td>angularjs</td><td>Client</td><td>5012</td><td>1</td></tr><tr><td>13</td><td>Google Closure Library</td><td>Google</td><td>google-closure-library</td><td>Client</td><td>390</td><td>1</td></tr><tr><td>15</td><td>Dart</td><td>Google</td><td>dart</td><td>ProgrammingLanguage</td><td>320</td><td>2</td></tr><tr><td>18</td><td>Go</td><td>Google</td><td>go</td><td>ProgrammingLanguage</td><td>3865</td><td>2</td></tr><tr><td>57</td><td>LevelDB</td><td>Google</td><td>leveldb</td><td>Data</td><td>325</td><td>1</td></tr><tr><td>61</td><td>Firebase</td><td>Google</td><td>firebase</td><td>Data</td><td>722</td><td>1</td></tr></tbody></table></td></tr><tr><th>Meta</th><td></td></tr><tr><th>ResponseStatus</th><td></td></tr></tbody></table>"
                        ]
                    },
                    "metadata": {},
                    "output_type": "display_data"
                }
            ],
            "metadata": {
                "dotnet_interactive": {
                    "language": "csharp"
                }
            }
        },
        {
            "cell_type": "code",
            "execution_count": null,
            "source": [
                "Inspect.printDumpTable(response.Results);\r\n"
            ],
            "outputs": [
                {
                    "data": {
                        "text/plain": [
                            "| #  | Id | Name                   | VendorName   | Slug                   | Tier                | ViewCount | FavCount |\r\n",
                            "|----|----|------------------------|--------------|------------------------|---------------------|-----------|----------|\r\n",
                            "| 1  |  1 | ServiceStack           | ServiceStack | servicestack           | Server              |      4204 |        5 |\r\n",
                            "| 2  |  2 | PostgreSQL             | PostgreSQL   | postgresql             | Data                |      2291 |        4 |\r\n",
                            "| 3  |  4 | Windows Server 2012    | Microsoft    | windows-server-2012    | OperatingSystem     |       878 |        1 |\r\n",
                            "| 4  |  6 | AWS RDS                | Amazon       | aws-rds                | Data                |       625 |        1 |\r\n",
                            "| 5  |  7 | AngularJS              | Google       | angularjs              | Client              |      5012 |        1 |\r\n",
                            "| 6  | 13 | Google Closure Library | Google       | google-closure-library | Client              |       390 |        1 |\r\n",
                            "| 7  | 15 | Dart                   | Google       | dart                   | ProgrammingLanguage |       320 |        2 |\r\n",
                            "| 8  | 18 | Go                     | Google       | go                     | ProgrammingLanguage |      3865 |        2 |\r\n",
                            "| 9  | 57 | LevelDB                | Google       | leveldb                | Data                |       325 |        1 |\r\n",
                            "| 10 | 61 | Firebase               | Google       | firebase               | Data                |       722 |        1 |\r\n",
                            "\r\n",
                            "\r\n",
                            "\r\n"
                        ]
                    },
                    "metadata": {},
                    "output_type": "display_data"
                }
            ],
            "metadata": {
                "dotnet_interactive": {
                    "language": "csharp"
                }
            }
        },
        {
            "cell_type": "code",
            "execution_count": null,
            "source": [],
            "outputs": [],
            "metadata": {
                "dotnet_interactive": {
                    "language": "csharp"
                }
            }
        }
    ],
    "metadata": {
        "kernelspec": {
            "display_name": ".NET (C#)",
            "name": ".net-csharp"
        },
        "language_info": {
            "name": "C#"
        },
        "orig_nbformat": 4
    },
    "nbformat": 4,
    "nbformat_minor": 2
}